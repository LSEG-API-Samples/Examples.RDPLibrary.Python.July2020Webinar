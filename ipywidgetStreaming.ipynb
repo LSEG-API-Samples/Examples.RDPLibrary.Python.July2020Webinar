{
 "cells": [
  {
   "cell_type": "code",
   "execution_count": null,
   "metadata": {},
   "outputs": [],
   "source": [
    "import refinitiv.dataplatform as rdp\n",
    "import ipywidgets as widgets\n",
    "import ipysheet\n",
    "import pandas as pd\n",
    "import dateutil.parser\n",
    "import calendar\n",
    "import json\n",
    "from datetime import datetime, timedelta\n",
    "from dateutil.relativedelta import relativedelta\n",
    "from pandas.tseries.offsets import BMonthEnd\n",
    "import configparser as cp\n",
    "\n",
    "config = cp.ConfigParser()\n",
    "config.read(\"config.cfg\")\n",
    "rdp.open_desktop_session(config['session']['app_key'])\n",
    "\n",
    "#rdp.open_platform_session( config['session']['app_key'],\n",
    "#    rdp.GrantPassword( username=config['session']['user'], password=config['session']['password'] ) \n",
    "#)"
   ]
  },
  {
   "cell_type": "code",
   "execution_count": null,
   "metadata": {},
   "outputs": [],
   "source": [
    "rics = []\n",
    "df = pd.DataFrame()\n",
    "\n",
    "def create_tick_table(streaming_prices):\n",
    "    global df,ticks_table\n",
    "    snapshot = streaming_prices.get_snapshot()\n",
    "    field_names = snapshot.columns[1:]\n",
    "    rics = snapshot['Instrument'].values\n",
    "    df = pd.DataFrame(index=rics, columns=field_names)\n",
    "    for ric in streaming_prices:\n",
    "        for field_name, field_value in ric.get_fields().items():\n",
    "            df.at[ric.name, field_name] = field_value\n",
    "    ticks_table = ipysheet.from_dataframe(df)\n",
    "    table_widget.children = [table_header, ticks_table]\n",
    "    \n",
    "def update_tick_table(streaming_prices, ric, fields):\n",
    "    global df,ticks_table\n",
    "    for field_name, field_value in fields.items():\n",
    "        df.at[ric, field_name] = field_value\n",
    "    ticks_table = ipysheet.from_dataframe(df)\n",
    "    table_widget.children = [table_header, ticks_table]\n",
    "\n",
    "def display_status(streaming_price, ric, status):\n",
    "    status_str = \"{}:{}\".format( ric, status)\n",
    "    status_output.value = status_str    \n"
   ]
  },
  {
   "cell_type": "code",
   "execution_count": null,
   "metadata": {},
   "outputs": [],
   "source": [
    "fields = ['DSPLY_NAME','BID','ASK','BIDSIZE','ASKSIZE','TRDPRC_1','MID_PRICE']\n",
    "drop_rics = ['VOD.L','BT.L','JPY=','EUR=','AUD=']"
   ]
  },
  {
   "cell_type": "code",
   "execution_count": null,
   "metadata": {},
   "outputs": [],
   "source": [
    "def add_ric(value):\n",
    "    global status_output,streaming_prices,rics\n",
    "    rics.append(ric_drop_down.value)\n",
    "    streaming_prices = rdp.StreamingPrices(\n",
    "        universe = rics, \n",
    "        fields   = fields,\n",
    "        on_complete = lambda streaming_prices : \n",
    "            create_tick_table(streaming_prices),\n",
    "        on_update = lambda streaming_prices, instrument_name, fields : \n",
    "            update_tick_table(streaming_prices, instrument_name, fields),\n",
    "        on_status = lambda streaming_price, instrument_name, status : \n",
    "            display_status(streaming_price, instrument_name, status)\n",
    "    )\n",
    "    streaming_prices.open()\n",
    "    return"
   ]
  },
  {
   "cell_type": "code",
   "execution_count": null,
   "metadata": {},
   "outputs": [],
   "source": [
    "ticks_table = ipysheet.sheet(rows=len(drop_rics),columns=len(fields),column_width=[10,10,10,10,10,10],column_headers=fields,row_headers=True)\n",
    "ric_drop_down = widgets.Dropdown(description='RIC:', options=drop_rics, value='VOD.L', continuous_update=False, layout={'width':'200px'})\n",
    "btn_add = widgets.Button(description='Add',layout={'width':'50px'})\n",
    "btn_add.on_click(add_ric)\n",
    "\n",
    "lbl_status = widgets.Label('  Status:', layout={'width':'50px'})\n",
    "status_output = widgets.Label(\"N/A\")\n"
   ]
  },
  {
   "cell_type": "code",
   "execution_count": null,
   "metadata": {},
   "outputs": [],
   "source": [
    "table_header = widgets.HBox([ric_drop_down, btn_add,lbl_status,status_output])\n",
    "table_widget = widgets.VBox([table_header, ticks_table],layout={'width':'900px'})\n",
    "accordion_ticker = widgets.Accordion(children=[table_widget], layout={'width':'1400px'})\n",
    "accordion_ticker.set_title(0, 'Realtime Tick updates')\n",
    "ticker = widgets.VBox([accordion_ticker])\n",
    "ticker"
   ]
  },
  {
   "cell_type": "code",
   "execution_count": null,
   "metadata": {},
   "outputs": [],
   "source": []
  }
 ],
 "metadata": {
  "kernelspec": {
   "display_name": "Python 3",
   "language": "python",
   "name": "python3"
  },
  "language_info": {
   "codemirror_mode": {
    "name": "ipython",
    "version": 3
   },
   "file_extension": ".py",
   "mimetype": "text/x-python",
   "name": "python",
   "nbconvert_exporter": "python",
   "pygments_lexer": "ipython3",
   "version": "3.7.6"
  }
 },
 "nbformat": 4,
 "nbformat_minor": 4
}
